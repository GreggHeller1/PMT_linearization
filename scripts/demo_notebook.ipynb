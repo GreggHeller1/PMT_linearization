{
  "cells": [
    {
      "cell_type": "markdown",
      "metadata": {
        "id": "view-in-github",
        "colab_type": "text"
      },
      "source": [
        "<a href=\"https://colab.research.google.com/github/GreggHeller1/PMT_linearization/blob/main/scripts/demo_notebook.ipynb\" target=\"_parent\"><img src=\"https://colab.research.google.com/assets/colab-badge.svg\" alt=\"Open In Colab\"/></a>"
      ]
    },
    {
      "cell_type": "code",
      "execution_count": null,
      "id": "71ee021b",
      "metadata": {
        "id": "71ee021b",
        "outputId": "ad56aee8-77ce-4a22-ef56-c0f144373577"
      },
      "outputs": [
        {
          "name": "stdout",
          "output_type": "stream",
          "text": [
            "The autoreload extension is already loaded. To reload it, use:\n",
            "  %reload_ext autoreload\n",
            "False\n"
          ]
        }
      ],
      "source": [
        "#settings\n",
        "%load_ext autoreload\n",
        "%autoreload 2\n",
        "try:\n",
        "  import google.colab\n",
        "  in_colab = True\n",
        "except:\n",
        "  in_colab = False\n",
        "print(in_colab)"
      ]
    },
    {
      "cell_type": "code",
      "execution_count": null,
      "id": "4e02e926",
      "metadata": {
        "id": "4e02e926"
      },
      "outputs": [],
      "source": [
        "#installs (for colab only, run this once)\n",
        "if in_colab:\n",
        "    ! git clone https://github.com/GreggHeller1/Neuron_Tutorial.git\n"
      ]
    },
    {
      "cell_type": "code",
      "execution_count": null,
      "id": "5e9731ca",
      "metadata": {
        "id": "5e9731ca"
      },
      "outputs": [],
      "source": [
        "#local imports\n",
        "#cwd if in colab for imports to work\n",
        "if in_colab:\n",
        "    %cd /content/Neuron_Tutorial\n",
        "    \n",
        "from src import data_io as io\n",
        "from src import plotting\n",
        "from src import computation as comp\n"
      ]
    },
    {
      "cell_type": "code",
      "execution_count": null,
      "id": "db51ef2e",
      "metadata": {
        "id": "db51ef2e"
      },
      "outputs": [],
      "source": [
        "#imports\n",
        "import xarray as xr\n",
        "import pandas as pd\n",
        "from matplotlib import pyplot as plt\n",
        "import os"
      ]
    },
    {
      "cell_type": "code",
      "execution_count": null,
      "id": "a06b6e4a",
      "metadata": {
        "colab": {
          "base_uri": "https://localhost:8080/"
        },
        "id": "a06b6e4a",
        "outputId": "989c69e2-c8c4-43e0-9ba6-7a36f66be4c3"
      },
      "outputs": [
        {
          "name": "stdout",
          "output_type": "stream",
          "text": [
            "demo_data/test.txt\n",
            "/Users/greggoryheller/Documents/code/Neuron_Tutorial/scripts\n"
          ]
        },
        {
          "data": {
            "text/plain": [
              "True"
            ]
          },
          "execution_count": 19,
          "metadata": {},
          "output_type": "execute_result"
        }
      ],
      "source": [
        "#define paths\n",
        "#cwd if in colab for file loading to work\n",
        "if in_colab:\n",
        "    %cd /content/Neuron_Tutorial/scripts\n",
        "    \n",
        "test_path = os.path.join('demo_data', 'test.txt')\n",
        "print(test_path)\n",
        "print(os.getcwd())\n",
        "os.path.exists(test_path)"
      ]
    },
    {
      "cell_type": "code",
      "execution_count": null,
      "id": "b3586a50",
      "metadata": {
        "colab": {
          "base_uri": "https://localhost:8080/"
        },
        "id": "b3586a50",
        "outputId": "56f159c6-3dbc-4b37-d217-083fb5d2e792"
      },
      "outputs": [
        {
          "name": "stdout",
          "output_type": "stream",
          "text": [
            "Reading file at demo_data/test.txt\n",
            "Testing whether we can read the contents of a text file in colab\n",
            "\n",
            "maybe we need another line?\n"
          ]
        }
      ],
      "source": [
        "#data inputs\n",
        "io.readfile(test_path)\n",
        "\n"
      ]
    },
    {
      "cell_type": "code",
      "execution_count": null,
      "id": "82a5927b",
      "metadata": {
        "id": "82a5927b"
      },
      "outputs": [],
      "source": [
        "#data manipulation\n"
      ]
    },
    {
      "cell_type": "code",
      "execution_count": null,
      "id": "f700a7f6",
      "metadata": {
        "id": "f700a7f6"
      },
      "outputs": [],
      "source": [
        "#plots\n"
      ]
    },
    {
      "cell_type": "code",
      "execution_count": null,
      "id": "8dd23ba7",
      "metadata": {
        "id": "8dd23ba7"
      },
      "outputs": [],
      "source": [
        "#data output\n"
      ]
    }
  ],
  "metadata": {
    "colab": {
      "name": "notebook.ipynb",
      "provenance": [],
      "include_colab_link": true
    },
    "jupytext": {
      "formats": "ipynb,py,md"
    },
    "kernelspec": {
      "display_name": "Python 3 (ipykernel)",
      "language": "python",
      "name": "python3"
    },
    "language_info": {
      "codemirror_mode": {
        "name": "ipython",
        "version": 3
      },
      "file_extension": ".py",
      "mimetype": "text/x-python",
      "name": "python",
      "nbconvert_exporter": "python",
      "pygments_lexer": "ipython3",
      "version": "3.9.12"
    }
  },
  "nbformat": 4,
  "nbformat_minor": 5
}